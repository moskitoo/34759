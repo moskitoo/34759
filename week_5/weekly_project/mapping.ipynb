{
 "cells": [
  {
   "cell_type": "markdown",
   "metadata": {},
   "source": [
    "### D)\n",
    "Extend this and try to see how much of the bedroom you can reconstruct from the RGB and depth images.\n",
    "You can extend a point cloud by `new = source + target`. Remember to resample the point cloud after a view additions so it does not get too large: `down_source = source.voxel_down_sample(voxel_size=0.05)`"
   ]
  },
  {
   "cell_type": "code",
   "execution_count": 46,
   "metadata": {},
   "outputs": [],
   "source": [
    "import open3d as o3d\n",
    "import matplotlib.pyplot as plt\n",
    "import numpy as np\n",
    "import copy\n",
    "\n",
    "from tqdm import tqdm\n",
    "\n",
    "import glob\n",
    "import os"
   ]
  },
  {
   "cell_type": "code",
   "execution_count": 47,
   "metadata": {},
   "outputs": [],
   "source": [
    "rgb_paths = glob.glob('car_challange/rgb/*.jpg')\n",
    "depth_paths = glob.glob('car_challange/depth/*.png')"
   ]
  },
  {
   "cell_type": "code",
   "execution_count": 48,
   "metadata": {},
   "outputs": [],
   "source": [
    "rgb_paths.sort(key=lambda path: int(os.path.basename(path).split('.')[0]))\n",
    "depth_paths.sort(key=lambda path: int(os.path.basename(path).split('.')[0]))"
   ]
  },
  {
   "cell_type": "code",
   "execution_count": 49,
   "metadata": {},
   "outputs": [],
   "source": [
    "rgb_paths = rgb_paths[:100]\n",
    "depth_paths = depth_paths[:100]"
   ]
  },
  {
   "cell_type": "code",
   "execution_count": 50,
   "metadata": {},
   "outputs": [
    {
     "name": "stdout",
     "output_type": "stream",
     "text": [
      "['car_challange/rgb/0000001.jpg', 'car_challange/rgb/0000002.jpg', 'car_challange/rgb/0000003.jpg', 'car_challange/rgb/0000004.jpg', 'car_challange/rgb/0000005.jpg', 'car_challange/rgb/0000006.jpg', 'car_challange/rgb/0000007.jpg', 'car_challange/rgb/0000008.jpg', 'car_challange/rgb/0000009.jpg', 'car_challange/rgb/0000010.jpg', 'car_challange/rgb/0000011.jpg', 'car_challange/rgb/0000012.jpg', 'car_challange/rgb/0000013.jpg', 'car_challange/rgb/0000014.jpg', 'car_challange/rgb/0000015.jpg', 'car_challange/rgb/0000016.jpg', 'car_challange/rgb/0000017.jpg', 'car_challange/rgb/0000018.jpg', 'car_challange/rgb/0000019.jpg', 'car_challange/rgb/0000020.jpg', 'car_challange/rgb/0000021.jpg', 'car_challange/rgb/0000022.jpg', 'car_challange/rgb/0000023.jpg', 'car_challange/rgb/0000024.jpg', 'car_challange/rgb/0000025.jpg', 'car_challange/rgb/0000026.jpg', 'car_challange/rgb/0000027.jpg', 'car_challange/rgb/0000028.jpg', 'car_challange/rgb/0000029.jpg', 'car_challange/rgb/0000030.jpg', 'car_challange/rgb/0000031.jpg', 'car_challange/rgb/0000032.jpg', 'car_challange/rgb/0000033.jpg', 'car_challange/rgb/0000034.jpg', 'car_challange/rgb/0000035.jpg', 'car_challange/rgb/0000036.jpg', 'car_challange/rgb/0000037.jpg', 'car_challange/rgb/0000038.jpg', 'car_challange/rgb/0000039.jpg', 'car_challange/rgb/0000040.jpg', 'car_challange/rgb/0000041.jpg', 'car_challange/rgb/0000042.jpg', 'car_challange/rgb/0000043.jpg', 'car_challange/rgb/0000044.jpg', 'car_challange/rgb/0000045.jpg', 'car_challange/rgb/0000046.jpg', 'car_challange/rgb/0000047.jpg', 'car_challange/rgb/0000048.jpg', 'car_challange/rgb/0000049.jpg', 'car_challange/rgb/0000050.jpg', 'car_challange/rgb/0000051.jpg', 'car_challange/rgb/0000052.jpg', 'car_challange/rgb/0000053.jpg', 'car_challange/rgb/0000054.jpg', 'car_challange/rgb/0000055.jpg', 'car_challange/rgb/0000056.jpg', 'car_challange/rgb/0000057.jpg', 'car_challange/rgb/0000058.jpg', 'car_challange/rgb/0000059.jpg', 'car_challange/rgb/0000060.jpg', 'car_challange/rgb/0000061.jpg', 'car_challange/rgb/0000062.jpg', 'car_challange/rgb/0000063.jpg', 'car_challange/rgb/0000064.jpg', 'car_challange/rgb/0000065.jpg', 'car_challange/rgb/0000066.jpg', 'car_challange/rgb/0000067.jpg', 'car_challange/rgb/0000068.jpg', 'car_challange/rgb/0000069.jpg', 'car_challange/rgb/0000070.jpg', 'car_challange/rgb/0000071.jpg', 'car_challange/rgb/0000072.jpg', 'car_challange/rgb/0000073.jpg', 'car_challange/rgb/0000074.jpg', 'car_challange/rgb/0000075.jpg', 'car_challange/rgb/0000076.jpg', 'car_challange/rgb/0000077.jpg', 'car_challange/rgb/0000078.jpg', 'car_challange/rgb/0000079.jpg', 'car_challange/rgb/0000080.jpg', 'car_challange/rgb/0000081.jpg', 'car_challange/rgb/0000082.jpg', 'car_challange/rgb/0000083.jpg', 'car_challange/rgb/0000084.jpg', 'car_challange/rgb/0000085.jpg', 'car_challange/rgb/0000086.jpg', 'car_challange/rgb/0000087.jpg', 'car_challange/rgb/0000088.jpg', 'car_challange/rgb/0000089.jpg', 'car_challange/rgb/0000090.jpg', 'car_challange/rgb/0000091.jpg', 'car_challange/rgb/0000092.jpg', 'car_challange/rgb/0000093.jpg', 'car_challange/rgb/0000094.jpg', 'car_challange/rgb/0000095.jpg', 'car_challange/rgb/0000096.jpg', 'car_challange/rgb/0000097.jpg', 'car_challange/rgb/0000098.jpg', 'car_challange/rgb/0000099.jpg', 'car_challange/rgb/0000100.jpg']\n"
     ]
    }
   ],
   "source": [
    "print(rgb_paths)"
   ]
  },
  {
   "cell_type": "code",
   "execution_count": 51,
   "metadata": {},
   "outputs": [
    {
     "name": "stdout",
     "output_type": "stream",
     "text": [
      "100\n",
      "100\n"
     ]
    }
   ],
   "source": [
    "print(len(rgb_paths))\n",
    "print(len(depth_paths))"
   ]
  },
  {
   "cell_type": "code",
   "execution_count": 52,
   "metadata": {},
   "outputs": [],
   "source": [
    "target = None\n",
    "trans_init = None"
   ]
  },
  {
   "cell_type": "code",
   "execution_count": 53,
   "metadata": {},
   "outputs": [],
   "source": [
    "estimation_method = o3d.pipelines.registration.TransformationEstimationPointToPoint()\n",
    "threshold = 0.5\n",
    "trans_init = np.asarray([[1, 0, 0, 0], [0, 1, 0, 0], [0, 0, 1, 0], [0, 0, 0, 1]])\n",
    "\n",
    "camera = o3d.camera.PinholeCameraIntrinsic(\n",
    "        o3d.camera.PinholeCameraIntrinsicParameters.PrimeSenseDefault)\n",
    "\n",
    "voxel_size = 0.01\n",
    "voxel_size_2 = 0.05 \n",
    "voxel_size_final = 0.005"
   ]
  },
  {
   "cell_type": "code",
   "execution_count": 54,
   "metadata": {},
   "outputs": [
    {
     "name": "stderr",
     "output_type": "stream",
     "text": [
      "100%|██████████| 100/100 [00:26<00:00,  3.74it/s]\n"
     ]
    }
   ],
   "source": [
    "point_cloud = o3d.geometry.PointCloud()\n",
    "\n",
    "for i, (rgb_path, depth_path) in tqdm(enumerate(zip(rgb_paths, depth_paths)), total=len(rgb_paths)):\n",
    "\n",
    "    rgb = o3d.io.read_image(rgb_path)\n",
    "    depth = o3d.io.read_image(depth_path)\n",
    "    \n",
    "    # print(rgb_path)\n",
    "    # print(depth_path)\n",
    "\n",
    "    rgbd_image = o3d.geometry.RGBDImage.create_from_color_and_depth(\n",
    "        rgb, depth, convert_rgb_to_intensity=True)\n",
    "\n",
    "    source = o3d.geometry.PointCloud.create_from_rgbd_image(\n",
    "        rgbd_image, camera)\n",
    "\n",
    "    source = source.voxel_down_sample(voxel_size)\n",
    "\n",
    "    if target is not None:\n",
    "        target.estimate_normals()\n",
    "\n",
    "        icp_result = o3d.pipelines.registration.registration_icp(\n",
    "            source, target, threshold, trans_init,\n",
    "            estimation_method)\n",
    "\n",
    "        # print(icp_result)\n",
    "        trans_init = icp_result.transformation\n",
    "\n",
    "        source.transform(trans_init)\n",
    "\n",
    "        # source.paint_uniform_color(\n",
    "        #     [1/len(rgb_paths) * (i+1), 1/len(rgb_paths) * (i+1), 1/len(rgb_paths) * (i+1)])\n",
    "\n",
    "        point_cloud += source\n",
    "        \n",
    "    if i % 50 == 0:\n",
    "        point_cloud = point_cloud.voxel_down_sample(voxel_size_2)\n",
    "\n",
    "    target = source\n",
    "\n",
    "    # point_cloud.transform([[1, 0, 0, 0],\n",
    "    #                        [0, -1, 0, 0],\n",
    "    #                        [0, 0, -1, 0], [0, 0, 0, 1]])\n",
    "\n",
    "    # o3d.visualization.draw_geometries([point_cloud])"
   ]
  },
  {
   "cell_type": "code",
   "execution_count": 55,
   "metadata": {},
   "outputs": [
    {
     "data": {
      "text/plain": [
       "std::vector<Eigen::Vector3d> with 2337741 elements.\n",
       "Use numpy.asarray() to access data."
      ]
     },
     "execution_count": 55,
     "metadata": {},
     "output_type": "execute_result"
    }
   ],
   "source": [
    "point_cloud.points"
   ]
  },
  {
   "cell_type": "code",
   "execution_count": 56,
   "metadata": {},
   "outputs": [],
   "source": [
    "point_cloud.transform([[1, 0, 0, 0], [0, -1, 0, 0], [0, 0, -1, 0], [0, 0, 0, 1]])\n",
    "\n",
    "o3d.visualization.draw_geometries([point_cloud])"
   ]
  }
 ],
 "metadata": {
  "kernelspec": {
   "display_name": "pfas",
   "language": "python",
   "name": "python3"
  },
  "language_info": {
   "codemirror_mode": {
    "name": "ipython",
    "version": 3
   },
   "file_extension": ".py",
   "mimetype": "text/x-python",
   "name": "python",
   "nbconvert_exporter": "python",
   "pygments_lexer": "ipython3",
   "version": "3.10.14"
  }
 },
 "nbformat": 4,
 "nbformat_minor": 2
}
