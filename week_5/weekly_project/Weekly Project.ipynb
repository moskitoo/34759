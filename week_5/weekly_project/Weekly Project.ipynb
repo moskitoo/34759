{
 "cells": [
  {
   "attachments": {},
   "cell_type": "markdown",
   "metadata": {},
   "source": [
    "# Weekly Project 5 \n",
    "## Implementation of global registration \n",
    "### Task 1\n",
    "Today, your task is to implement a global registration algorithm.\n",
    "\n",
    "It should be able to roughly align two point clouds.\n",
    "Implement the global registration, and then try the following:\n",
    "\n",
    "1. Can you fit `r1.pcd` and `r2.pcd`?\n",
    "2. Can you fit `car1.ply` and `car2.ply`?\n",
    "The corresponding files are in the `global_registration` folder."
   ]
  },
  {
   "cell_type": "code",
   "execution_count": 222,
   "metadata": {},
   "outputs": [],
   "source": [
    "\n",
    "import open3d as o3d\n",
    "import numpy as np\n",
    "import copy\n",
    "\n",
    "import scipy\n",
    "from scipy.spatial import cKDTree"
   ]
  },
  {
   "cell_type": "code",
   "execution_count": 201,
   "metadata": {},
   "outputs": [],
   "source": [
    "def draw_registration_result(source, target, transformation):\n",
    "    source_temp = copy.deepcopy(source)\n",
    "    target_temp = copy.deepcopy(target)\n",
    "    source_temp.paint_uniform_color([1, 0.706, 0])\n",
    "    target_temp.paint_uniform_color([0, 0.651, 0.929])\n",
    "    source_temp.transform(transformation)\n",
    "    o3d.visualization.draw_geometries([source_temp, target_temp],\n",
    "                                      zoom=0.4559,\n",
    "                                      front=[0.6452, -0.3036, -0.7011],\n",
    "                                      lookat=[1.9892, 2.0208, 1.8945],\n",
    "                                      up=[-0.2779, -0.9482, 0.1556])"
   ]
  },
  {
   "cell_type": "code",
   "execution_count": 202,
   "metadata": {},
   "outputs": [],
   "source": [
    "source = o3d.io.read_point_cloud(\"global_registration/r1.pcd\")\n",
    "target = o3d.io.read_point_cloud(\"global_registration/r2.pcd\")"
   ]
  },
  {
   "cell_type": "code",
   "execution_count": 203,
   "metadata": {},
   "outputs": [],
   "source": [
    "points_numpy = np.asarray(source.points)"
   ]
  },
  {
   "cell_type": "code",
   "execution_count": 204,
   "metadata": {},
   "outputs": [
    {
     "data": {
      "text/plain": [
       "array([2.27726722, 1.01953125, 0.88671875])"
      ]
     },
     "execution_count": 204,
     "metadata": {},
     "output_type": "execute_result"
    }
   ],
   "source": [
    "points_numpy[0]"
   ]
  },
  {
   "cell_type": "code",
   "execution_count": 205,
   "metadata": {},
   "outputs": [
    {
     "data": {
      "text/plain": [
       "PointCloud with 137833 points."
      ]
     },
     "execution_count": 205,
     "metadata": {},
     "output_type": "execute_result"
    }
   ],
   "source": [
    "target"
   ]
  },
  {
   "cell_type": "code",
   "execution_count": 206,
   "metadata": {},
   "outputs": [],
   "source": [
    "voxel_size = 0.05\n",
    "\n",
    "source_downsampled = source.voxel_down_sample(voxel_size)\n",
    "target_downsampled = target.voxel_down_sample(voxel_size)"
   ]
  },
  {
   "cell_type": "code",
   "execution_count": 207,
   "metadata": {},
   "outputs": [],
   "source": [
    "max_nn = 100\n",
    "radius = 20\n",
    "\n",
    "search_param = o3d.geometry.KDTreeSearchParamHybrid(max_nn, radius)\n",
    "\n",
    "source_fpfh = o3d.pipelines.registration.compute_fpfh_feature(\n",
    "    source_downsampled, search_param)\n",
    "target_fpfh = o3d.pipelines.registration.compute_fpfh_feature(\n",
    "    target_downsampled, search_param)"
   ]
  },
  {
   "cell_type": "code",
   "execution_count": 208,
   "metadata": {},
   "outputs": [
    {
     "data": {
      "text/plain": [
       "<bound method PyCapsule.num of Feature class with dimension = 33 and num = 4760\n",
       "Access its data via data member.>"
      ]
     },
     "execution_count": 208,
     "metadata": {},
     "output_type": "execute_result"
    }
   ],
   "source": [
    "source_fpfh.num"
   ]
  },
  {
   "cell_type": "code",
   "execution_count": 220,
   "metadata": {},
   "outputs": [
    {
     "data": {
      "text/plain": [
       "array([[ 0.        ,  0.        ,  0.        , ...,  1.97964138,\n",
       "         0.83138983,  0.        ],\n",
       "       [ 0.        ,  0.        ,  0.        , ...,  0.        ,\n",
       "         6.15017995,  0.        ],\n",
       "       [27.76532278, 14.15084564, 14.13441001, ...,  0.        ,\n",
       "         4.92804121,  0.        ],\n",
       "       ...,\n",
       "       [27.68263887, 22.05562451, 32.93382302, ...,  0.        ,\n",
       "         0.34424572,  0.        ],\n",
       "       [15.79575165, 18.52599431, 11.27411093, ...,  0.        ,\n",
       "         2.66272836,  0.        ],\n",
       "       [12.92155955,  2.76642606,  2.75107944, ...,  0.        ,\n",
       "        29.25200291,  0.14259685]])"
      ]
     },
     "execution_count": 220,
     "metadata": {},
     "output_type": "execute_result"
    }
   ],
   "source": [
    "source_fpfh.data"
   ]
  },
  {
   "cell_type": "code",
   "execution_count": 223,
   "metadata": {},
   "outputs": [],
   "source": [
    "def find_knn_cpu(feat0, feat1, knn=1, return_distance=False):\n",
    "  feat1tree = cKDTree(feat1)\n",
    "  dists, nn_inds = feat1tree.query(feat0, k=knn, n_jobs=-1)\n",
    "  if return_distance:\n",
    "    return nn_inds, dists\n",
    "  else:\n",
    "    return nn_inds"
   ]
  },
  {
   "cell_type": "code",
   "execution_count": 224,
   "metadata": {},
   "outputs": [],
   "source": [
    "def find_correspondences(feats0, feats1, mutual_filter=True):\n",
    "  nns01 = find_knn_cpu(feats0, feats1, knn=1, return_distance=False)\n",
    "  corres01_idx0 = np.arange(len(nns01))\n",
    "  corres01_idx1 = nns01\n",
    "\n",
    "  if not mutual_filter:\n",
    "    return corres01_idx0, corres01_idx1\n",
    "\n",
    "  nns10 = find_knn_cpu(feats1, feats0, knn=1, return_distance=False)\n",
    "  corres10_idx1 = np.arange(len(nns10))\n",
    "  corres10_idx0 = nns10\n",
    "\n",
    "  mutual_filter = (corres10_idx0[corres01_idx1] == corres01_idx0)\n",
    "  corres_idx0 = corres01_idx0[mutual_filter]\n",
    "  corres_idx1 = corres01_idx1[mutual_filter]\n",
    "\n",
    "  return corres_idx0, corres_idx1"
   ]
  },
  {
   "cell_type": "code",
   "execution_count": null,
   "metadata": {},
   "outputs": [],
   "source": [
    "A_feats = extract_fpfh(A_pcd,VOXEL_SIZE)\n",
    "B_feats = extract_fpfh(B_pcd,VOXEL_SIZE)"
   ]
  },
  {
   "cell_type": "code",
   "execution_count": 226,
   "metadata": {},
   "outputs": [
    {
     "ename": "TypeError",
     "evalue": "Unexpected keyword argument {'n_jobs': -1}",
     "output_type": "error",
     "traceback": [
      "\u001b[0;31m---------------------------------------------------------------------------\u001b[0m",
      "\u001b[0;31mTypeError\u001b[0m                                 Traceback (most recent call last)",
      "Cell \u001b[0;32mIn[226], line 1\u001b[0m\n\u001b[0;32m----> 1\u001b[0m matched_indices \u001b[38;5;241m=\u001b[39m \u001b[43mfind_correspondences\u001b[49m\u001b[43m(\u001b[49m\u001b[43msource_fpfh\u001b[49m\u001b[38;5;241;43m.\u001b[39;49m\u001b[43mdata\u001b[49m\u001b[43m,\u001b[49m\u001b[43m \u001b[49m\u001b[43mtarget_fpfh\u001b[49m\u001b[38;5;241;43m.\u001b[39;49m\u001b[43mdata\u001b[49m\u001b[43m)\u001b[49m\n",
      "Cell \u001b[0;32mIn[224], line 2\u001b[0m, in \u001b[0;36mfind_correspondences\u001b[0;34m(feats0, feats1, mutual_filter)\u001b[0m\n\u001b[1;32m      1\u001b[0m \u001b[38;5;28;01mdef\u001b[39;00m \u001b[38;5;21mfind_correspondences\u001b[39m(feats0, feats1, mutual_filter\u001b[38;5;241m=\u001b[39m\u001b[38;5;28;01mTrue\u001b[39;00m):\n\u001b[0;32m----> 2\u001b[0m   nns01 \u001b[38;5;241m=\u001b[39m \u001b[43mfind_knn_cpu\u001b[49m\u001b[43m(\u001b[49m\u001b[43mfeats0\u001b[49m\u001b[43m,\u001b[49m\u001b[43m \u001b[49m\u001b[43mfeats1\u001b[49m\u001b[43m,\u001b[49m\u001b[43m \u001b[49m\u001b[43mknn\u001b[49m\u001b[38;5;241;43m=\u001b[39;49m\u001b[38;5;241;43m1\u001b[39;49m\u001b[43m,\u001b[49m\u001b[43m \u001b[49m\u001b[43mreturn_distance\u001b[49m\u001b[38;5;241;43m=\u001b[39;49m\u001b[38;5;28;43;01mFalse\u001b[39;49;00m\u001b[43m)\u001b[49m\n\u001b[1;32m      3\u001b[0m   corres01_idx0 \u001b[38;5;241m=\u001b[39m np\u001b[38;5;241m.\u001b[39marange(\u001b[38;5;28mlen\u001b[39m(nns01))\n\u001b[1;32m      4\u001b[0m   corres01_idx1 \u001b[38;5;241m=\u001b[39m nns01\n",
      "Cell \u001b[0;32mIn[223], line 3\u001b[0m, in \u001b[0;36mfind_knn_cpu\u001b[0;34m(feat0, feat1, knn, return_distance)\u001b[0m\n\u001b[1;32m      1\u001b[0m \u001b[38;5;28;01mdef\u001b[39;00m \u001b[38;5;21mfind_knn_cpu\u001b[39m(feat0, feat1, knn\u001b[38;5;241m=\u001b[39m\u001b[38;5;241m1\u001b[39m, return_distance\u001b[38;5;241m=\u001b[39m\u001b[38;5;28;01mFalse\u001b[39;00m):\n\u001b[1;32m      2\u001b[0m   feat1tree \u001b[38;5;241m=\u001b[39m cKDTree(feat1)\n\u001b[0;32m----> 3\u001b[0m   dists, nn_inds \u001b[38;5;241m=\u001b[39m \u001b[43mfeat1tree\u001b[49m\u001b[38;5;241;43m.\u001b[39;49m\u001b[43mquery\u001b[49m\u001b[43m(\u001b[49m\u001b[43mfeat0\u001b[49m\u001b[43m,\u001b[49m\u001b[43m \u001b[49m\u001b[43mk\u001b[49m\u001b[38;5;241;43m=\u001b[39;49m\u001b[43mknn\u001b[49m\u001b[43m,\u001b[49m\u001b[43m \u001b[49m\u001b[43mn_jobs\u001b[49m\u001b[38;5;241;43m=\u001b[39;49m\u001b[38;5;241;43m-\u001b[39;49m\u001b[38;5;241;43m1\u001b[39;49m\u001b[43m)\u001b[49m\n\u001b[1;32m      4\u001b[0m   \u001b[38;5;28;01mif\u001b[39;00m return_distance:\n\u001b[1;32m      5\u001b[0m     \u001b[38;5;28;01mreturn\u001b[39;00m nn_inds, dists\n",
      "File \u001b[0;32m_ckdtree.pyx:789\u001b[0m, in \u001b[0;36mscipy.spatial._ckdtree.cKDTree.query\u001b[0;34m()\u001b[0m\n",
      "File \u001b[0;32m_ckdtree.pyx:388\u001b[0m, in \u001b[0;36mscipy.spatial._ckdtree.get_num_workers\u001b[0;34m()\u001b[0m\n",
      "\u001b[0;31mTypeError\u001b[0m: Unexpected keyword argument {'n_jobs': -1}"
     ]
    }
   ],
   "source": [
    "matched_indices = find_correspondences(source_fpfh.data, target_fpfh.data)"
   ]
  },
  {
   "cell_type": "markdown",
   "metadata": {},
   "source": [
    "### Ransac\n",
    "\n",
    "RANSAC for Pose Estimation\n",
    "-  Randomly choose 3 pairs of matched points\n",
    "- Estimate the relative pose\n",
    "    - Kabsch/ Procrustes\n",
    "- Apply the transformation and assess its “validity”:\n",
    "    - number of inliers: matched point pairs whose distance\n",
    "became “small” after applying the specific transformation\n",
    "    - Sum of distances between all matched point pairs after\n",
    "transformation\n",
    "    - …\n",
    "- Keep the transformation with most inliers\n",
    "- Repeat random sampling"
   ]
  },
  {
   "cell_type": "code",
   "execution_count": 210,
   "metadata": {},
   "outputs": [],
   "source": [
    "def transform_matrix(matrix, transformation):\n",
    "    matrix_homogeneous = np.hstack([matrix, np.ones((matrix.shape[0], 1))])\n",
    "    \n",
    "    transformed_matrix_homogeneous = matrix_homogeneous @ transformation.T\n",
    "    \n",
    "    transformed_matrix = transformed_matrix_homogeneous[:, :3]\n",
    "    \n",
    "    return transformed_matrix"
   ]
  },
  {
   "cell_type": "code",
   "execution_count": 211,
   "metadata": {},
   "outputs": [],
   "source": [
    "def calcualte_transformation(source_pc, target_pc):\n",
    "    source_np = np.asarray(source_pc.points)\n",
    "    target_np = np.asarray(target_pc.points)\n",
    "    \n",
    "    #get random points\n",
    "    n = 3  # for 2 random indices\n",
    "    index_source = np.random.choice(source_np.shape[0], n, replace=False)\n",
    "    index_target = np.random.choice(target_np.shape[0], n, replace=False)\n",
    "    \n",
    "    source_points = source_np[index_source]\n",
    "    target_points = target_np[index_target]\n",
    "\n",
    "    print(\"source points\")    \n",
    "    print(source_points)\n",
    "    print(source_points.shape)\n",
    "    print(\"\\n\")\n",
    "    print(\"traget_points\")\n",
    "    print(target_points)\n",
    "    print(target_points.shape)\n",
    "    \n",
    "    #translation\n",
    "    \n",
    "    source_centroid = np.mean(source_points[:,-3:], axis=0)\n",
    "    target_centroid = np.mean(target_points[:,-3:], axis=0)\n",
    "    \n",
    "    translation = target_centroid - source_centroid\n",
    "    # print(\"translation\")\n",
    "    # print(translation)\n",
    "    \n",
    "    cov = source_points.T @ target_points    \n",
    "    # print(cov)\n",
    "\n",
    "    \n",
    "    #rotation\n",
    "        \n",
    "    cov_to_sqrt = cov.T @ cov\n",
    "    \n",
    "    evalues, evectors = np.linalg.eig(cov_to_sqrt)\n",
    "    # Ensuring square root matrix exists\n",
    "    assert (evalues >= 0).all()\n",
    "    cov_sqrt = evectors * np.sqrt(evalues) @ np.linalg.inv(evectors)\n",
    "    \n",
    "    rotation = cov_sqrt @ np.linalg.inv(cov)\n",
    "    \n",
    "    # print(\"\\nrotation\")\n",
    "    # print(rotation)\n",
    "    \n",
    "    \n",
    "    transformation = np.eye(4)\n",
    "    transformation[:3, :3] = rotation\n",
    "    transformation[:3, 3] = translation\n",
    "    \n",
    "    source_points_transformed = transform_matrix(source_points, transformation)\n",
    "    \n",
    "    print(\"\\n\")\n",
    "    print(\"source points tranformed\")\n",
    "    print(source_points_transformed)\n",
    "    print(source_points_transformed.shape)\n",
    "    \n",
    "    return transformation"
   ]
  },
  {
   "cell_type": "code",
   "execution_count": 212,
   "metadata": {},
   "outputs": [
    {
     "name": "stdout",
     "output_type": "stream",
     "text": [
      "source points\n",
      "[[1.37509669 3.60411978 1.6802799 ]\n",
      " [1.00682885 3.10071993 1.93354856]\n",
      " [1.4582407  2.49905005 2.40228056]]\n",
      "(3, 3)\n",
      "\n",
      "\n",
      "traget_points\n",
      "[[1.20422174 1.50754853 1.07604196]\n",
      " [3.09268443 1.3585721  1.89626095]\n",
      " [1.94628678 2.60405689 1.09782681]]\n",
      "(3, 3)\n",
      "\n",
      "\n",
      "source points tranformed\n",
      "[[3.45779025 0.96019257 1.75642701]\n",
      " [3.48752839 0.76773654 1.11202501]\n",
      " [3.23008663 1.37686128 0.5219574 ]]\n",
      "(3, 3)\n"
     ]
    }
   ],
   "source": [
    "transformation = calcualte_transformation(source_downsampled, target_downsampled)\n",
    "\n",
    "# print(transformation)"
   ]
  },
  {
   "cell_type": "code",
   "execution_count": 213,
   "metadata": {},
   "outputs": [
    {
     "name": "stdout",
     "output_type": "stream",
     "text": [
      "[2.23442745 1.33203125 2.36328125]\n",
      "[ 2.15124225  1.96256881 -0.15550935]\n"
     ]
    }
   ],
   "source": [
    "source_downsampled_test = np.asarray(source_downsampled.points)[0]\n",
    "\n",
    "print(source_downsampled_test)\n",
    "\n",
    "source_downsampled.transform(transformation)\n",
    "\n",
    "source_downsampled_test = np.asarray(source_downsampled.points)[0]\n",
    "\n",
    "print(source_downsampled_test)\n"
   ]
  },
  {
   "cell_type": "code",
   "execution_count": null,
   "metadata": {},
   "outputs": [],
   "source": []
  },
  {
   "cell_type": "code",
   "execution_count": 214,
   "metadata": {},
   "outputs": [
    {
     "ename": "NameError",
     "evalue": "name 'registration_results_point_to_point' is not defined",
     "output_type": "error",
     "traceback": [
      "\u001b[0;31m---------------------------------------------------------------------------\u001b[0m",
      "\u001b[0;31mNameError\u001b[0m                                 Traceback (most recent call last)",
      "Cell \u001b[0;32mIn[214], line 1\u001b[0m\n\u001b[0;32m----> 1\u001b[0m draw_registration_result(source_downsampled, target_downsampled, \u001b[43mregistration_results_point_to_point\u001b[49m\u001b[38;5;241m.\u001b[39mtransformation)\n",
      "\u001b[0;31mNameError\u001b[0m: name 'registration_results_point_to_point' is not defined"
     ]
    }
   ],
   "source": [
    "draw_registration_result(source_downsampled, target_downsampled, registration_results_point_to_point.transformation)"
   ]
  },
  {
   "cell_type": "markdown",
   "metadata": {},
   "source": [
    "### Task 2 (Challange)\n",
    "Challanges attempt either or both:\n",
    "- Implement local registration.\n",
    "\n",
    "- Attempt to reconstruct the car from the images in `car_challange` folder.\n",
    "\n",
    "You can use the notebooks from Monday as a starting point."
   ]
  },
  {
   "cell_type": "code",
   "execution_count": null,
   "metadata": {},
   "outputs": [],
   "source": []
  }
 ],
 "metadata": {
  "kernelspec": {
   "display_name": "Python 3",
   "language": "python",
   "name": "python3"
  },
  "language_info": {
   "codemirror_mode": {
    "name": "ipython",
    "version": 3
   },
   "file_extension": ".py",
   "mimetype": "text/x-python",
   "name": "python",
   "nbconvert_exporter": "python",
   "pygments_lexer": "ipython3",
   "version": "3.10.14"
  }
 },
 "nbformat": 4,
 "nbformat_minor": 4
}
