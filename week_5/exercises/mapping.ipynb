{
 "cells": [
  {
   "cell_type": "markdown",
   "metadata": {},
   "source": [
    "### D)\n",
    "Extend this and try to see how much of the bedroom you can reconstruct from the RGB and depth images.\n",
    "You can extend a point cloud by `new = source + target`. Remember to resample the point cloud after a view additions so it does not get too large: `down_source = source.voxel_down_sample(voxel_size=0.05)`"
   ]
  },
  {
   "cell_type": "code",
   "execution_count": 430,
   "metadata": {},
   "outputs": [],
   "source": [
    "import open3d as o3d\n",
    "import matplotlib.pyplot as plt\n",
    "import numpy as np\n",
    "import copy\n",
    "\n",
    "from tqdm import tqdm\n",
    "\n",
    "import glob\n",
    "import os"
   ]
  },
  {
   "cell_type": "code",
   "execution_count": 431,
   "metadata": {},
   "outputs": [],
   "source": [
    "rgb_paths = glob.glob('RGBD/color/*.jpg')\n",
    "depth_paths = glob.glob('RGBD/depth/*.png')"
   ]
  },
  {
   "cell_type": "code",
   "execution_count": 432,
   "metadata": {},
   "outputs": [],
   "source": [
    "rgb_paths.sort(key=lambda path: int(os.path.basename(path).split('.')[0]))\n",
    "depth_paths.sort(key=lambda path: int(os.path.basename(path).split('.')[0]))"
   ]
  },
  {
   "cell_type": "code",
   "execution_count": 433,
   "metadata": {},
   "outputs": [],
   "source": [
    "# rgb_paths = rgb_paths[:100]\n",
    "# depth_paths = depth_paths[:100]"
   ]
  },
  {
   "cell_type": "code",
   "execution_count": 434,
   "metadata": {},
   "outputs": [
    {
     "name": "stdout",
     "output_type": "stream",
     "text": [
      "['RGBD/color/000000.jpg', 'RGBD/color/000001.jpg', 'RGBD/color/000002.jpg', 'RGBD/color/000003.jpg', 'RGBD/color/000004.jpg', 'RGBD/color/000005.jpg', 'RGBD/color/000006.jpg', 'RGBD/color/000007.jpg', 'RGBD/color/000008.jpg', 'RGBD/color/000009.jpg', 'RGBD/color/000010.jpg', 'RGBD/color/000011.jpg', 'RGBD/color/000012.jpg', 'RGBD/color/000013.jpg', 'RGBD/color/000014.jpg', 'RGBD/color/000015.jpg', 'RGBD/color/000016.jpg', 'RGBD/color/000017.jpg', 'RGBD/color/000018.jpg', 'RGBD/color/000019.jpg', 'RGBD/color/000020.jpg', 'RGBD/color/000021.jpg', 'RGBD/color/000022.jpg', 'RGBD/color/000023.jpg', 'RGBD/color/000024.jpg', 'RGBD/color/000025.jpg', 'RGBD/color/000026.jpg', 'RGBD/color/000027.jpg', 'RGBD/color/000028.jpg', 'RGBD/color/000029.jpg', 'RGBD/color/000030.jpg', 'RGBD/color/000031.jpg', 'RGBD/color/000032.jpg', 'RGBD/color/000033.jpg', 'RGBD/color/000034.jpg', 'RGBD/color/000035.jpg', 'RGBD/color/000036.jpg', 'RGBD/color/000037.jpg', 'RGBD/color/000038.jpg', 'RGBD/color/000039.jpg', 'RGBD/color/000040.jpg', 'RGBD/color/000041.jpg', 'RGBD/color/000042.jpg', 'RGBD/color/000043.jpg', 'RGBD/color/000044.jpg', 'RGBD/color/000045.jpg', 'RGBD/color/000046.jpg', 'RGBD/color/000047.jpg', 'RGBD/color/000048.jpg', 'RGBD/color/000049.jpg', 'RGBD/color/000050.jpg', 'RGBD/color/000051.jpg', 'RGBD/color/000052.jpg', 'RGBD/color/000053.jpg', 'RGBD/color/000054.jpg', 'RGBD/color/000055.jpg', 'RGBD/color/000056.jpg', 'RGBD/color/000057.jpg', 'RGBD/color/000058.jpg', 'RGBD/color/000059.jpg', 'RGBD/color/000060.jpg', 'RGBD/color/000061.jpg', 'RGBD/color/000062.jpg', 'RGBD/color/000063.jpg', 'RGBD/color/000064.jpg', 'RGBD/color/000065.jpg', 'RGBD/color/000066.jpg', 'RGBD/color/000067.jpg', 'RGBD/color/000068.jpg', 'RGBD/color/000069.jpg', 'RGBD/color/000070.jpg', 'RGBD/color/000071.jpg', 'RGBD/color/000072.jpg', 'RGBD/color/000073.jpg', 'RGBD/color/000074.jpg', 'RGBD/color/000075.jpg', 'RGBD/color/000076.jpg', 'RGBD/color/000077.jpg', 'RGBD/color/000078.jpg', 'RGBD/color/000079.jpg', 'RGBD/color/000080.jpg', 'RGBD/color/000081.jpg', 'RGBD/color/000082.jpg', 'RGBD/color/000083.jpg', 'RGBD/color/000084.jpg', 'RGBD/color/000085.jpg', 'RGBD/color/000086.jpg', 'RGBD/color/000087.jpg', 'RGBD/color/000088.jpg', 'RGBD/color/000089.jpg', 'RGBD/color/000090.jpg', 'RGBD/color/000091.jpg', 'RGBD/color/000092.jpg', 'RGBD/color/000093.jpg', 'RGBD/color/000094.jpg', 'RGBD/color/000095.jpg', 'RGBD/color/000096.jpg', 'RGBD/color/000097.jpg', 'RGBD/color/000098.jpg', 'RGBD/color/000099.jpg', 'RGBD/color/000100.jpg', 'RGBD/color/000101.jpg', 'RGBD/color/000102.jpg', 'RGBD/color/000103.jpg', 'RGBD/color/000104.jpg', 'RGBD/color/000105.jpg', 'RGBD/color/000106.jpg', 'RGBD/color/000107.jpg', 'RGBD/color/000108.jpg', 'RGBD/color/000109.jpg', 'RGBD/color/000110.jpg', 'RGBD/color/000111.jpg', 'RGBD/color/000112.jpg', 'RGBD/color/000113.jpg', 'RGBD/color/000114.jpg', 'RGBD/color/000115.jpg', 'RGBD/color/000116.jpg', 'RGBD/color/000117.jpg', 'RGBD/color/000118.jpg', 'RGBD/color/000119.jpg', 'RGBD/color/000120.jpg', 'RGBD/color/000121.jpg', 'RGBD/color/000122.jpg', 'RGBD/color/000123.jpg', 'RGBD/color/000124.jpg', 'RGBD/color/000125.jpg', 'RGBD/color/000126.jpg', 'RGBD/color/000127.jpg', 'RGBD/color/000128.jpg', 'RGBD/color/000129.jpg', 'RGBD/color/000130.jpg', 'RGBD/color/000131.jpg', 'RGBD/color/000132.jpg', 'RGBD/color/000133.jpg', 'RGBD/color/000134.jpg', 'RGBD/color/000135.jpg', 'RGBD/color/000136.jpg', 'RGBD/color/000137.jpg', 'RGBD/color/000138.jpg', 'RGBD/color/000139.jpg', 'RGBD/color/000140.jpg', 'RGBD/color/000141.jpg', 'RGBD/color/000142.jpg', 'RGBD/color/000143.jpg', 'RGBD/color/000144.jpg', 'RGBD/color/000145.jpg', 'RGBD/color/000146.jpg', 'RGBD/color/000147.jpg', 'RGBD/color/000148.jpg', 'RGBD/color/000149.jpg', 'RGBD/color/000150.jpg', 'RGBD/color/000151.jpg', 'RGBD/color/000152.jpg', 'RGBD/color/000153.jpg', 'RGBD/color/000154.jpg', 'RGBD/color/000155.jpg', 'RGBD/color/000156.jpg', 'RGBD/color/000157.jpg', 'RGBD/color/000158.jpg', 'RGBD/color/000159.jpg', 'RGBD/color/000160.jpg', 'RGBD/color/000161.jpg', 'RGBD/color/000162.jpg', 'RGBD/color/000163.jpg', 'RGBD/color/000164.jpg', 'RGBD/color/000165.jpg', 'RGBD/color/000166.jpg', 'RGBD/color/000167.jpg', 'RGBD/color/000168.jpg', 'RGBD/color/000169.jpg', 'RGBD/color/000170.jpg', 'RGBD/color/000171.jpg', 'RGBD/color/000172.jpg', 'RGBD/color/000173.jpg', 'RGBD/color/000174.jpg', 'RGBD/color/000175.jpg', 'RGBD/color/000176.jpg', 'RGBD/color/000177.jpg', 'RGBD/color/000178.jpg', 'RGBD/color/000179.jpg', 'RGBD/color/000180.jpg', 'RGBD/color/000181.jpg', 'RGBD/color/000182.jpg', 'RGBD/color/000183.jpg', 'RGBD/color/000184.jpg', 'RGBD/color/000185.jpg', 'RGBD/color/000186.jpg', 'RGBD/color/000187.jpg', 'RGBD/color/000188.jpg', 'RGBD/color/000189.jpg', 'RGBD/color/000190.jpg', 'RGBD/color/000191.jpg', 'RGBD/color/000192.jpg', 'RGBD/color/000193.jpg', 'RGBD/color/000194.jpg', 'RGBD/color/000195.jpg', 'RGBD/color/000196.jpg', 'RGBD/color/000197.jpg', 'RGBD/color/000198.jpg', 'RGBD/color/000199.jpg', 'RGBD/color/000200.jpg', 'RGBD/color/000201.jpg', 'RGBD/color/000202.jpg', 'RGBD/color/000203.jpg', 'RGBD/color/000204.jpg', 'RGBD/color/000205.jpg', 'RGBD/color/000206.jpg', 'RGBD/color/000207.jpg', 'RGBD/color/000208.jpg', 'RGBD/color/000209.jpg', 'RGBD/color/000210.jpg', 'RGBD/color/000211.jpg', 'RGBD/color/000212.jpg', 'RGBD/color/000213.jpg', 'RGBD/color/000214.jpg', 'RGBD/color/000215.jpg', 'RGBD/color/000216.jpg', 'RGBD/color/000217.jpg', 'RGBD/color/000218.jpg', 'RGBD/color/000219.jpg', 'RGBD/color/000220.jpg', 'RGBD/color/000221.jpg', 'RGBD/color/000222.jpg', 'RGBD/color/000223.jpg', 'RGBD/color/000224.jpg', 'RGBD/color/000225.jpg', 'RGBD/color/000226.jpg', 'RGBD/color/000227.jpg', 'RGBD/color/000228.jpg', 'RGBD/color/000229.jpg', 'RGBD/color/000230.jpg', 'RGBD/color/000231.jpg', 'RGBD/color/000232.jpg', 'RGBD/color/000233.jpg', 'RGBD/color/000234.jpg', 'RGBD/color/000235.jpg', 'RGBD/color/000236.jpg', 'RGBD/color/000237.jpg', 'RGBD/color/000238.jpg', 'RGBD/color/000239.jpg', 'RGBD/color/000240.jpg', 'RGBD/color/000241.jpg', 'RGBD/color/000242.jpg', 'RGBD/color/000243.jpg', 'RGBD/color/000244.jpg', 'RGBD/color/000245.jpg', 'RGBD/color/000246.jpg', 'RGBD/color/000247.jpg', 'RGBD/color/000248.jpg', 'RGBD/color/000249.jpg', 'RGBD/color/000250.jpg', 'RGBD/color/000251.jpg', 'RGBD/color/000252.jpg', 'RGBD/color/000253.jpg', 'RGBD/color/000254.jpg', 'RGBD/color/000255.jpg', 'RGBD/color/000256.jpg', 'RGBD/color/000257.jpg', 'RGBD/color/000258.jpg', 'RGBD/color/000259.jpg', 'RGBD/color/000260.jpg', 'RGBD/color/000261.jpg', 'RGBD/color/000262.jpg', 'RGBD/color/000263.jpg', 'RGBD/color/000264.jpg', 'RGBD/color/000265.jpg', 'RGBD/color/000266.jpg', 'RGBD/color/000267.jpg', 'RGBD/color/000268.jpg', 'RGBD/color/000269.jpg', 'RGBD/color/000270.jpg', 'RGBD/color/000271.jpg', 'RGBD/color/000272.jpg', 'RGBD/color/000273.jpg', 'RGBD/color/000274.jpg', 'RGBD/color/000275.jpg', 'RGBD/color/000276.jpg', 'RGBD/color/000277.jpg', 'RGBD/color/000278.jpg', 'RGBD/color/000279.jpg', 'RGBD/color/000280.jpg', 'RGBD/color/000281.jpg', 'RGBD/color/000282.jpg', 'RGBD/color/000283.jpg', 'RGBD/color/000284.jpg', 'RGBD/color/000285.jpg', 'RGBD/color/000286.jpg', 'RGBD/color/000287.jpg', 'RGBD/color/000288.jpg', 'RGBD/color/000289.jpg', 'RGBD/color/000290.jpg', 'RGBD/color/000291.jpg', 'RGBD/color/000292.jpg', 'RGBD/color/000293.jpg', 'RGBD/color/000294.jpg', 'RGBD/color/000295.jpg', 'RGBD/color/000296.jpg', 'RGBD/color/000297.jpg', 'RGBD/color/000298.jpg', 'RGBD/color/000299.jpg', 'RGBD/color/000300.jpg', 'RGBD/color/000301.jpg', 'RGBD/color/000302.jpg', 'RGBD/color/000303.jpg', 'RGBD/color/000304.jpg', 'RGBD/color/000305.jpg', 'RGBD/color/000306.jpg', 'RGBD/color/000307.jpg', 'RGBD/color/000308.jpg', 'RGBD/color/000309.jpg', 'RGBD/color/000310.jpg', 'RGBD/color/000311.jpg', 'RGBD/color/000312.jpg', 'RGBD/color/000313.jpg', 'RGBD/color/000314.jpg', 'RGBD/color/000315.jpg', 'RGBD/color/000316.jpg', 'RGBD/color/000317.jpg', 'RGBD/color/000318.jpg', 'RGBD/color/000319.jpg', 'RGBD/color/000320.jpg', 'RGBD/color/000321.jpg', 'RGBD/color/000322.jpg', 'RGBD/color/000323.jpg', 'RGBD/color/000324.jpg', 'RGBD/color/000325.jpg', 'RGBD/color/000326.jpg', 'RGBD/color/000327.jpg', 'RGBD/color/000328.jpg', 'RGBD/color/000329.jpg', 'RGBD/color/000330.jpg', 'RGBD/color/000331.jpg', 'RGBD/color/000332.jpg', 'RGBD/color/000333.jpg', 'RGBD/color/000334.jpg', 'RGBD/color/000335.jpg', 'RGBD/color/000336.jpg', 'RGBD/color/000337.jpg', 'RGBD/color/000338.jpg', 'RGBD/color/000339.jpg', 'RGBD/color/000340.jpg', 'RGBD/color/000341.jpg', 'RGBD/color/000342.jpg', 'RGBD/color/000343.jpg', 'RGBD/color/000344.jpg', 'RGBD/color/000345.jpg', 'RGBD/color/000346.jpg', 'RGBD/color/000347.jpg', 'RGBD/color/000348.jpg', 'RGBD/color/000349.jpg', 'RGBD/color/000350.jpg', 'RGBD/color/000351.jpg', 'RGBD/color/000352.jpg', 'RGBD/color/000353.jpg', 'RGBD/color/000354.jpg', 'RGBD/color/000355.jpg', 'RGBD/color/000356.jpg', 'RGBD/color/000357.jpg', 'RGBD/color/000358.jpg', 'RGBD/color/000359.jpg', 'RGBD/color/000360.jpg', 'RGBD/color/000361.jpg', 'RGBD/color/000362.jpg', 'RGBD/color/000363.jpg', 'RGBD/color/000364.jpg', 'RGBD/color/000365.jpg', 'RGBD/color/000366.jpg', 'RGBD/color/000367.jpg', 'RGBD/color/000368.jpg', 'RGBD/color/000369.jpg', 'RGBD/color/000370.jpg', 'RGBD/color/000371.jpg', 'RGBD/color/000372.jpg', 'RGBD/color/000373.jpg', 'RGBD/color/000374.jpg', 'RGBD/color/000375.jpg', 'RGBD/color/000376.jpg', 'RGBD/color/000377.jpg', 'RGBD/color/000378.jpg', 'RGBD/color/000379.jpg', 'RGBD/color/000380.jpg', 'RGBD/color/000381.jpg', 'RGBD/color/000382.jpg', 'RGBD/color/000383.jpg', 'RGBD/color/000384.jpg', 'RGBD/color/000385.jpg', 'RGBD/color/000386.jpg', 'RGBD/color/000387.jpg', 'RGBD/color/000388.jpg', 'RGBD/color/000389.jpg', 'RGBD/color/000390.jpg', 'RGBD/color/000391.jpg', 'RGBD/color/000392.jpg', 'RGBD/color/000393.jpg', 'RGBD/color/000394.jpg', 'RGBD/color/000395.jpg', 'RGBD/color/000396.jpg', 'RGBD/color/000397.jpg', 'RGBD/color/000398.jpg', 'RGBD/color/000399.jpg', 'RGBD/color/000400.jpg']\n"
     ]
    }
   ],
   "source": [
    "print(rgb_paths)"
   ]
  },
  {
   "cell_type": "code",
   "execution_count": 435,
   "metadata": {},
   "outputs": [
    {
     "name": "stdout",
     "output_type": "stream",
     "text": [
      "401\n",
      "401\n"
     ]
    }
   ],
   "source": [
    "print(len(rgb_paths))\n",
    "print(len(depth_paths))"
   ]
  },
  {
   "cell_type": "code",
   "execution_count": 436,
   "metadata": {},
   "outputs": [],
   "source": [
    "target = None\n",
    "trans_init = None"
   ]
  },
  {
   "cell_type": "code",
   "execution_count": 437,
   "metadata": {},
   "outputs": [],
   "source": [
    "estimation_method = o3d.pipelines.registration.TransformationEstimationPointToPoint()\n",
    "threshold = 0.5\n",
    "trans_init = np.asarray([[1, 0, 0, 0], [0, 1, 0, 0], [0, 0, 1, 0], [0, 0, 0, 1]])\n",
    "\n",
    "camera = o3d.camera.PinholeCameraIntrinsic(\n",
    "        o3d.camera.PinholeCameraIntrinsicParameters.PrimeSenseDefault)\n",
    "\n",
    "voxel_size = 0.01\n",
    "voxel_size_2 = 0.05 \n",
    "voxel_size_final = 0.005"
   ]
  },
  {
   "cell_type": "code",
   "execution_count": 438,
   "metadata": {},
   "outputs": [
    {
     "name": "stderr",
     "output_type": "stream",
     "text": [
      "100%|██████████| 401/401 [02:34<00:00,  2.59it/s]\n"
     ]
    }
   ],
   "source": [
    "point_cloud = o3d.geometry.PointCloud()\n",
    "\n",
    "for i, (rgb_path, depth_path) in tqdm(enumerate(zip(rgb_paths, depth_paths)), total=len(rgb_paths)):\n",
    "\n",
    "    rgb = o3d.io.read_image(rgb_path)\n",
    "    depth = o3d.io.read_image(depth_path)\n",
    "    \n",
    "    # print(rgb_path)\n",
    "    # print(depth_path)\n",
    "\n",
    "    rgbd_image = o3d.geometry.RGBDImage.create_from_color_and_depth(\n",
    "        rgb, depth, convert_rgb_to_intensity=True)\n",
    "\n",
    "    source = o3d.geometry.PointCloud.create_from_rgbd_image(\n",
    "        rgbd_image, camera)\n",
    "\n",
    "    source = source.voxel_down_sample(voxel_size)\n",
    "\n",
    "    if target is not None:\n",
    "        target.estimate_normals()\n",
    "\n",
    "        icp_result = o3d.pipelines.registration.registration_icp(\n",
    "            source, target, threshold, trans_init,\n",
    "            estimation_method)\n",
    "\n",
    "        # print(icp_result)\n",
    "        trans_init = icp_result.transformation\n",
    "\n",
    "        source.transform(trans_init)\n",
    "\n",
    "        # source.paint_uniform_color(\n",
    "            # [1/len(rgb_paths) * (i+1), 1/len(rgb_paths) * (i+1), 1/len(rgb_paths) * (i+1)])\n",
    "\n",
    "        point_cloud += source\n",
    "        \n",
    "    if i % 50 == 0:\n",
    "        point_cloud = point_cloud.voxel_down_sample(voxel_size_2)\n",
    "\n",
    "    target = source\n",
    "\n",
    "    # point_cloud.transform([[1, 0, 0, 0],\n",
    "    #                        [0, -1, 0, 0],\n",
    "    #                        [0, 0, -1, 0], [0, 0, 0, 1]])\n",
    "\n",
    "    # o3d.visualization.draw_geometries([point_cloud])"
   ]
  },
  {
   "cell_type": "code",
   "execution_count": 439,
   "metadata": {},
   "outputs": [
    {
     "data": {
      "text/plain": [
       "std::vector<Eigen::Vector3d> with 14185 elements.\n",
       "Use numpy.asarray() to access data."
      ]
     },
     "execution_count": 439,
     "metadata": {},
     "output_type": "execute_result"
    }
   ],
   "source": [
    "point_cloud.points"
   ]
  },
  {
   "cell_type": "code",
   "execution_count": 440,
   "metadata": {},
   "outputs": [],
   "source": [
    "point_cloud.transform([[1, 0, 0, 0], [0, -1, 0, 0], [0, 0, -1, 0], [0, 0, 0, 1]])\n",
    "\n",
    "o3d.visualization.draw_geometries([point_cloud])"
   ]
  }
 ],
 "metadata": {
  "kernelspec": {
   "display_name": "pfas",
   "language": "python",
   "name": "python3"
  },
  "language_info": {
   "codemirror_mode": {
    "name": "ipython",
    "version": 3
   },
   "file_extension": ".py",
   "mimetype": "text/x-python",
   "name": "python",
   "nbconvert_exporter": "python",
   "pygments_lexer": "ipython3",
   "version": "3.10.14"
  }
 },
 "nbformat": 4,
 "nbformat_minor": 2
}
