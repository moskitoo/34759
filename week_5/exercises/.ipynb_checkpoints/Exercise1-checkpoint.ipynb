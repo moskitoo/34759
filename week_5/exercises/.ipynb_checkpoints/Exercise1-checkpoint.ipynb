{
 "cells": [
  {
   "attachments": {},
   "cell_type": "markdown",
   "metadata": {},
   "source": [
    "# Global registration with RANSAC\n",
    "We are going to use [open3d](http://www.open3d.org/) to handle point clouds and generation of point clouds\n",
    "We are importing the packages and defining a function which helps us drawing the point clouds."
   ]
  },
  {
   "cell_type": "code",
   "execution_count": 1,
   "metadata": {},
   "outputs": [
    {
     "name": "stdout",
     "output_type": "stream",
     "text": [
      "Jupyter environment detected. Enabling Open3D WebVisualizer.\n",
      "[Open3D INFO] WebRTC GUI backend enabled.\n",
      "[Open3D INFO] WebRTCWindowSystem: HTTP handshake server disabled.\n"
     ]
    }
   ],
   "source": [
    "import open3d as o3d\n",
    "import numpy as np\n",
    "import copy\n",
    "\n",
    "# helper function for drawing\n",
    "# If you want it to be more clear set recolor=True\n",
    "\n",
    "\n",
    "def draw_registrations(source, target, transformation=None, recolor=False):\n",
    "    source_temp = copy.deepcopy(source)\n",
    "    target_temp = copy.deepcopy(target)\n",
    "    if (recolor):\n",
    "        source_temp.paint_uniform_color([1, 0.706, 0])\n",
    "        target_temp.paint_uniform_color([0, 0.651, 0.929])\n",
    "    if (transformation is not None):\n",
    "        source_temp.transform(transformation)\n",
    "    o3d.visualization.draw_geometries([source_temp, target_temp])"
   ]
  },
  {
   "attachments": {},
   "cell_type": "markdown",
   "metadata": {},
   "source": [
    "We need to read in our pointclouds. For that we use the `io` module of the\n",
    "open3d package (`o3d`). The following cell will open a window with a\n",
    "visualization of both point clouds `source` and `target`.\n",
    "\n",
    "Also, this page [Visualization - Open3D](http://open3d.org/html/tutorial/Basic/visualization.html)\n",
    "contains some useful examples and instructions on how to use the viewer."
   ]
  },
  {
   "cell_type": "code",
   "execution_count": 2,
   "metadata": {},
   "outputs": [],
   "source": [
    "source = o3d.io.read_point_cloud(\"ICP/r1.pcd\")\n",
    "target = o3d.io.read_point_cloud(\"ICP/r2.pcd\")\n",
    "\n",
    "# Used for downsampling.\n",
    "voxel_size = 0.05\n",
    "\n",
    "# Show models side by side\n",
    "# draw_registrations(source, target)"
   ]
  },
  {
   "attachments": {},
   "cell_type": "markdown",
   "metadata": {},
   "source": [
    "### Finding features in pointclouds\n",
    "When working on point clouds it can be beneficial to work on a downsampled version of the point cloud,\n",
    "as it decreases the need of computation.\n",
    "\n",
    "You can use [`pointcloud.voxel_down_sample()`](http://www.open3d.org/docs/latest/python_api/open3d.geometry.PointCloud.html#open3d.geometry.PointCloud.voxel_down_sample) where `pointcloud` is the name of your point cloud object. In our case, that would be `source` and `target`.\n",
    "\n",
    "We also need to estimate the normals of the point cloud points using [`pointcloud.estimate_normals()`](http://www.open3d.org/docs/latest/python_api/open3d.geometry.PointCloud.html#open3d.geometry.PointCloud.voxel_down_sample)\n",
    "\n",
    "**Task:** Find FPFH features or correspondances of the downsampled point clouds.\n",
    "[`o3d.pipelines.registration.compute_fpfh_feature()`](http://www.open3d.org/docs/latest/python_api/open3d.pipelines.registration.compute_fpfh_feature.html)\n"
   ]
  },
  {
   "cell_type": "code",
   "execution_count": 3,
   "metadata": {},
   "outputs": [],
   "source": [
    "####\n",
    "# Downsample and find features here\n",
    "####\n",
    "\n",
    "# Code\n",
    "\n",
    "source_downsampled = source.voxel_down_sample(voxel_size)\n",
    "target_downsampled = target.voxel_down_sample(voxel_size)"
   ]
  },
  {
   "cell_type": "code",
   "execution_count": 4,
   "metadata": {},
   "outputs": [
    {
     "name": "stdout",
     "output_type": "stream",
     "text": [
      "(198835, 3)\n",
      "(4760, 3)\n",
      "downsampling factor: 42.0\n"
     ]
    }
   ],
   "source": [
    "# what is the size afer downsampling?\n",
    "\n",
    "source_points = np.asarray(source.points)\n",
    "source_points_downsampled = np.asarray(source_downsampled.points)\n",
    "\n",
    "print(source_points.shape)\n",
    "print(source_points_downsampled.shape)\n",
    "\n",
    "print(\n",
    "    f\"downsampling factor: {np.round(source_points.shape[0] / source_points_downsampled.shape[0])}\")"
   ]
  },
  {
   "cell_type": "code",
   "execution_count": 5,
   "metadata": {},
   "outputs": [],
   "source": [
    "# estimate normals\n",
    "\n",
    "source_downsampled_normals = source_downsampled.estimate_normals()\n",
    "target_downsampled_normals = target_downsampled.estimate_normals()"
   ]
  },
  {
   "cell_type": "code",
   "execution_count": 6,
   "metadata": {},
   "outputs": [
    {
     "name": "stdout",
     "output_type": "stream",
     "text": [
      "33\n",
      "4760\n",
      "(33, 4760)\n"
     ]
    }
   ],
   "source": [
    "# search_param = o3d.geometry.KDTreeSearchParam()\n",
    "search_param = o3d.geometry.KDTreeSearchParamHybrid(max_nn=100, radius=10)\n",
    "\n",
    "# KNNSearch = <Type.KNNSearch: 0>\n",
    "# RadiusSearch = <Type.RadiusSearch: 1>\n",
    "# HybridSearch = <Type.HybridSearch: 2>\n",
    "\n",
    "source_fpfh = o3d.pipelines.registration.compute_fpfh_feature(\n",
    "    source_downsampled, search_param)\n",
    "target_fpfh = o3d.pipelines.registration.compute_fpfh_feature(\n",
    "    target_downsampled, search_param)\n",
    "\n",
    "print(source_fpfh.dimension())\n",
    "\n",
    "print(source_fpfh.num())\n",
    "\n",
    "print(source_fpfh.data.shape)"
   ]
  },
  {
   "cell_type": "code",
   "execution_count": 7,
   "metadata": {},
   "outputs": [
    {
     "name": "stdout",
     "output_type": "stream",
     "text": [
      "[0.00000000e+00 0.00000000e+00 2.03919914e+00 2.76397482e+01\n",
      " 1.02277293e+02 6.80395610e+01 0.00000000e+00 4.19844678e-03\n",
      " 0.00000000e+00 0.00000000e+00 0.00000000e+00 4.02723641e-01\n",
      " 9.05217431e+00 1.23208639e+01 2.58944555e+01 3.62886274e+01\n",
      " 4.39264575e+01 2.91699577e+01 2.18838496e+01 1.17806363e+01\n",
      " 8.79798761e+00 4.82266541e-01 1.63993056e-02 0.00000000e+00\n",
      " 3.61833679e-03 3.98349336e-02 5.56961811e-01 1.88562522e+01\n",
      " 4.24843402e+01 5.09762735e+01 5.37086999e+01 3.06311087e+01\n",
      " 2.72651117e+00]\n"
     ]
    }
   ],
   "source": [
    "print(source_fpfh.data[:, 0])"
   ]
  },
  {
   "attachments": {},
   "cell_type": "markdown",
   "metadata": {},
   "source": [
    "### RANSAC \n",
    "We will now attempt to use RANSAC to do a global registration of the two point clouds.\n",
    "\n",
    "By using the function [`o3d.pipelines.registration.registration_ransac_based_on_feature_matching`](http://www.open3d.org/docs/latest/python_api/open3d.pipelines.registration.registration_ransac_based_on_feature_matching.html) from open3d, do the following:\n",
    "\n",
    "\n",
    "Try to find the transformation from `r1.pcd` (`source`) to `r2.pcd` (`target`).\n",
    "Attempt with point-to-point and point-to-plane\n",
    "```Python\n",
    "point_to_point =  o3d.pipelines.registration.TransformationEstimationPointToPoint(False)\n",
    "point_to_plane =  o3d.pipelines.registration.TransformationEstimationPointToPlane()\n",
    "```\n",
    "\n",
    "When using RANSAC, focus on the arguments below. The rest are optional parameters.\n",
    "```Python\n",
    "ransac_result = o3d.registration.registration_ransac_based_on_feature_matching(\n",
    "    source_sample, target_sample, \n",
    "    source_fpfh, target_fpfh, \n",
    "    distance_threshold,\n",
    "    point_to_point)\n",
    "```"
   ]
  },
  {
   "cell_type": "code",
   "execution_count": 8,
   "metadata": {},
   "outputs": [],
   "source": [
    "####\n",
    "# Call RANSAC here\n",
    "####\n",
    "\n",
    "# ransac_result = ...\n",
    "# draw_registrations(source, target, ransac_result.transformation, True)"
   ]
  },
  {
   "cell_type": "code",
   "execution_count": 9,
   "metadata": {},
   "outputs": [],
   "source": [
    "# tansformation from r1 to r2\n",
    "\n",
    "# point to point\n",
    "point_to_point = o3d.pipelines.registration.TransformationEstimationPointToPoint(\n",
    "    False)\n",
    "\n",
    "max_correspondence_distance = 0.075\n",
    "checkers = [\n",
    "    o3d.pipelines.registration.CorrespondenceCheckerBasedOnEdgeLength(0.9),\n",
    "    o3d.pipelines.registration.CorrespondenceCheckerBasedOnDistance(\n",
    "        max_correspondence_distance)\n",
    "]\n",
    "criteria = o3d.pipelines.registration.RANSACConvergenceCriteria(\n",
    "    max_iteration=4000000, confidence=0.9)\n",
    "\n",
    "registration_results_point_to_point = o3d.pipelines.registration.registration_ransac_based_on_feature_matching(\n",
    "    source_downsampled, target_downsampled, source_fpfh, target_fpfh, True, max_correspondence_distance, point_to_point)\n",
    "\n",
    "\n",
    "# # point to plane\n",
    "point_to_plane = o3d.pipelines.registration.TransformationEstimationPointToPlane()\n",
    "\n",
    "registration_results_point_to_plane = o3d.pipelines.registration.registration_ransac_based_on_feature_matching(source_downsampled, target_downsampled, source_fpfh, target_fpfh, True, max_correspondence_distance, point_to_point)\n"
   ]
  },
  {
   "cell_type": "code",
   "execution_count": 10,
   "metadata": {},
   "outputs": [
    {
     "name": "stdout",
     "output_type": "stream",
     "text": [
      "[[   9  175]\n",
      " [  10  185]\n",
      " [  14 2762]\n",
      " ...\n",
      " [4756 1658]\n",
      " [4757 3266]\n",
      " [4758 3055]]\n",
      "RegistrationResult with fitness=6.794118e-01, inlier_rmse=3.616841e-02, and correspondence_set size of 3234\n",
      "Access transformation to get result.\n"
     ]
    }
   ],
   "source": [
    "print(np.asarray(registration_results_point_to_point.correspondence_set))\n",
    "\n",
    "print(registration_results_point_to_point)"
   ]
  },
  {
   "cell_type": "code",
   "execution_count": 12,
   "metadata": {},
   "outputs": [],
   "source": [
    "draw_registrations(source, target, transformation=None, recolor=True)"
   ]
  },
  {
   "attachments": {},
   "cell_type": "markdown",
   "metadata": {},
   "source": [
    "## Exercises\n",
    "### A)\n",
    "Can you get a decent transformation from r1 to r3? (check the ICP folder)\n",
    "### B)\n",
    "With the following checkers, can you get better results from RANSAC? Try tweaking the parameters of them. Can you make point-to-plane work? Do not spend too much time on this, if you can't manage, skip it. (I was not able to get a good fit.)\n",
    "\n",
    "You can also try tweaking the `voxel_size`\n",
    "\n",
    "```Python\n",
    "corr_length = 0.9\n",
    "distance_threshold = voxel_size * 1.5\n",
    "\n",
    "c0 = o3d.pipelines.registration.CorrespondenceCheckerBasedOnEdgeLength(corr_length)\n",
    "c1 = o3d.pipelines.registration.CorrespondenceCheckerBasedOnDistance(distance_threshold)\n",
    "c2 = o3d.pipelines.registration.CorrespondenceCheckerBasedOnNormal(0.095)\n",
    "\n",
    "checker_list = [c0,c1,c2]\n",
    "\n",
    "ransac_result = o3d.registration.registration_ransac_based_on_feature_matching(\n",
    "    source_sample, target_sample, \n",
    "    source_fpfh, target_fpfh, \n",
    "    True,\n",
    "    distance_threshold,\n",
    "    point_to_point,\n",
    "    checkers = checker_list)\n",
    "```\n"
   ]
  },
  {
   "cell_type": "code",
   "execution_count": null,
   "metadata": {},
   "outputs": [],
   "source": []
  }
 ],
 "metadata": {
  "kernelspec": {
   "display_name": "pfas",
   "language": "python",
   "name": "python3"
  },
  "language_info": {
   "codemirror_mode": {
    "name": "ipython",
    "version": 3
   },
   "file_extension": ".py",
   "mimetype": "text/x-python",
   "name": "python",
   "nbconvert_exporter": "python",
   "pygments_lexer": "ipython3",
   "version": "3.10.14"
  },
  "vscode": {
   "interpreter": {
    "hash": "cd5a613775d973e3ebb98e1e77334e79b1df328fc590baa0c4f920a9a4d0a201"
   }
  }
 },
 "nbformat": 4,
 "nbformat_minor": 4
}
