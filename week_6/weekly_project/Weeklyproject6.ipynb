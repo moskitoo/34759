{
 "cells": [
  {
   "attachments": {},
   "cell_type": "markdown",
   "metadata": {},
   "source": [
    "# Weekly project 6\n",
    "Today we will continue work from monday.\n",
    "We will follow the style of last week.\n",
    "\n",
    "Weekly project:\n",
    "- You will need to implement your own k-means algorithm. You are not allowed to use the implementation in `sklearn`.\n",
    "- It should be able to cluster each of the different figures.\n",
    "- Extend your k-means so it finds the optimal amount of clusters.\n",
    "  \n",
    "## Challenge\n",
    "- Implement the mean shift clustering algorithm\n"
   ]
  },
  {
   "cell_type": "code",
   "execution_count": 211,
   "metadata": {},
   "outputs": [],
   "source": [
    "import numpy as np\n",
    "import open3d as o3d\n",
    "import copy\n",
    "import matplotlib.pyplot as plt\n",
    "from scipy.spatial import distance_matrix\n",
    "\n",
    "def draw_labels_on_model(pcl, labels):\n",
    "    cmap = plt.get_cmap(\"tab20\")\n",
    "    pcl_temp = copy.deepcopy(pcl)\n",
    "    max_label = labels.max()\n",
    "    colors = cmap(labels / (max_label if max_label > 0 else 1))\n",
    "    colors[labels < 0] = 0\n",
    "    pcl_temp.colors = o3d.utility.Vector3dVector(colors[:, :3])\n",
    "    o3d.visualization.draw_geometries([pcl_temp])\n",
    "\n",
    "d = 4\n",
    "mesh = o3d.geometry.TriangleMesh.create_tetrahedron().translate((-d, 0, 0))\n",
    "mesh += o3d.geometry.TriangleMesh.create_octahedron().translate((0, 0, 0))\n",
    "mesh += o3d.geometry.TriangleMesh.create_icosahedron().translate((d, 0, 0))\n",
    "mesh += o3d.geometry.TriangleMesh.create_torus().translate((-d, -d, 0))\n",
    "mesh += o3d.geometry.TriangleMesh.create_mobius(twists=1).translate((0, -d, 0))\n",
    "mesh += o3d.geometry.TriangleMesh.create_mobius(twists=2).translate((d, -d, 0))\n",
    "\n",
    "## apply k means on this\n",
    "point_cloud = mesh.sample_points_uniformly(int(1e3))"
   ]
  },
  {
   "cell_type": "code",
   "execution_count": 212,
   "metadata": {},
   "outputs": [],
   "source": [
    "# o3d.visualization.draw_geometries([point_cloud])"
   ]
  },
  {
   "cell_type": "code",
   "execution_count": 213,
   "metadata": {},
   "outputs": [
    {
     "data": {
      "text/plain": [
       "PointCloud with 1000 points."
      ]
     },
     "execution_count": 213,
     "metadata": {},
     "output_type": "execute_result"
    }
   ],
   "source": [
    "point_cloud"
   ]
  },
  {
   "cell_type": "code",
   "execution_count": 214,
   "metadata": {},
   "outputs": [],
   "source": [
    "def kmeans(point_cloud, k: int):\n",
    "    \n",
    "    max_iter = 10000\n",
    "    centroid_threshold = 0.001\n",
    "    \n",
    "    cluster_centers_random = np.empty(k)\n",
    "    \n",
    "    points = np.asarray(point_cloud.points)\n",
    "    \n",
    "    cluster_centers = None\n",
    "    \n",
    "    # Randomly initialize k cluster centers\n",
    "    random_indices = np.random.choice(points.shape[0], size=k, replace=False)   \n",
    "    cluster_centers_random = points[random_indices]\n",
    "    \n",
    "    \n",
    "    # Assign each point to its nearest cluster center\n",
    "    i = 0\n",
    "    while i < max_iter:\n",
    "    \n",
    "        if cluster_centers is None:\n",
    "            cluster_centers = cluster_centers_random\n",
    "            \n",
    "        distances = distance_matrix(points, cluster_centers)\n",
    "            \n",
    "        prev_cluster_centers = cluster_centers\n",
    "        \n",
    "        cluster_centers = np.empty((k, points.shape[1]))\n",
    "        \n",
    "        closest_cluster_idx = np.argmin(distances, axis=1)\n",
    "        \n",
    "        # Re-compute each cluster-center as the centroid of all points assigned to each cluster\n",
    "        \n",
    "        for i in range(4):\n",
    "            cluster_centers[i] = np.mean(points[closest_cluster_idx == i], axis=0)\n",
    "        \n",
    "        #Check convergence/stop criterion, otherwise repeat Steps 2-4\n",
    "        \n",
    "        centroid_dif = np.mean(cluster_centers - prev_cluster_centers)\n",
    "        \n",
    "        print(f\"iteration: {i}\")\n",
    "        print(f\"centroid_dif: {centroid_dif}\")\n",
    "        \n",
    "        if centroid_dif < centroid_threshold:\n",
    "            break\n",
    "        \n",
    "        i += 1\n",
    "    \n",
    "    return closest_cluster_idx, cluster_centers"
   ]
  },
  {
   "cell_type": "code",
   "execution_count": 215,
   "metadata": {},
   "outputs": [
    {
     "name": "stdout",
     "output_type": "stream",
     "text": [
      "iteration: 3\n",
      "centroid_dif: -0.17728515981807969\n"
     ]
    }
   ],
   "source": [
    "clusters, recompute = kmeans(point_cloud, 6)"
   ]
  },
  {
   "cell_type": "code",
   "execution_count": 216,
   "metadata": {},
   "outputs": [
    {
     "name": "stdout",
     "output_type": "stream",
     "text": [
      "[4 4 4 4]\n",
      "[[ 2.79520138e+00  5.74891982e-01 -8.15311644e-02]\n",
      " [ 4.39963389e+00 -6.02923435e-01  5.96044963e-02]\n",
      " [ 3.10490588e+00 -3.97785219e+00 -6.54890526e-05]\n",
      " [-2.47634349e+00 -2.67659029e+00  7.36658087e-02]\n",
      " [-4.58156375e+00 -2.83561883e+00  3.90980516e-01]\n",
      " [-4.02246657e+00 -5.07818989e+00 -4.86675297e-01]]\n"
     ]
    }
   ],
   "source": [
    "print(clusters[:4])\n",
    "print(recompute)"
   ]
  },
  {
   "cell_type": "code",
   "execution_count": 217,
   "metadata": {},
   "outputs": [],
   "source": [
    "draw_labels_on_model(point_cloud, clusters)"
   ]
  },
  {
   "cell_type": "code",
   "execution_count": 218,
   "metadata": {},
   "outputs": [],
   "source": [
    "import numpy as np\n",
    "from scipy.spatial import distance_matrix\n",
    "\n",
    "def kmeans(point_cloud, k: int, max_iters=100, tol=1e-4):\n",
    "    points = np.asarray(point_cloud.points)\n",
    "    \n",
    "    # Initialize cluster centers randomly from the points\n",
    "    random_indices = np.random.choice(points.shape[0], size=k, replace=False)\n",
    "    cluster_centers = points[random_indices]\n",
    "    \n",
    "    # Initialize variable to hold the recomputed cluster centers\n",
    "    cluster_centers_recompute = np.empty((k, points.shape[1]))  # Shape (k, 3) for 3D points\n",
    "    \n",
    "    for iteration in range(max_iters):\n",
    "        # Compute distances between points and cluster centers\n",
    "        distances = distance_matrix(points, cluster_centers)\n",
    "        \n",
    "        # Assign each point to its nearest cluster center\n",
    "        closest_cluster_idx = np.argmin(distances, axis=1)\n",
    "        \n",
    "        # Re-compute each cluster center as the centroid of all points assigned to that cluster\n",
    "        for i in range(k):\n",
    "            cluster_points = points[closest_cluster_idx == i]\n",
    "            if len(cluster_points) > 0:  # Avoid division by zero\n",
    "                cluster_centers_recompute[i] = np.mean(cluster_points, axis=0)\n",
    "        \n",
    "        # Check for convergence (if the cluster centers haven't changed much)\n",
    "        if np.all(np.linalg.norm(cluster_centers - cluster_centers_recompute, axis=1) < tol):\n",
    "            break\n",
    "        \n",
    "        # Update the cluster centers\n",
    "        cluster_centers = cluster_centers_recompute.copy()\n",
    "    \n",
    "    return closest_cluster_idx, cluster_centers\n"
   ]
  },
  {
   "cell_type": "code",
   "execution_count": 219,
   "metadata": {},
   "outputs": [],
   "source": [
    "closest_cluster_idx, cluster_centers = kmeans(point_cloud, 6)"
   ]
  },
  {
   "cell_type": "code",
   "execution_count": 220,
   "metadata": {},
   "outputs": [],
   "source": [
    "draw_labels_on_model(point_cloud, closest_cluster_idx)"
   ]
  }
 ],
 "metadata": {
  "kernelspec": {
   "display_name": "Python 3",
   "language": "python",
   "name": "python3"
  },
  "language_info": {
   "codemirror_mode": {
    "name": "ipython",
    "version": 3
   },
   "file_extension": ".py",
   "mimetype": "text/x-python",
   "name": "python",
   "nbconvert_exporter": "python",
   "pygments_lexer": "ipython3",
   "version": "3.10.14"
  },
  "toc": {
   "base_numbering": 1,
   "nav_menu": {},
   "number_sections": true,
   "sideBar": true,
   "skip_h1_title": false,
   "title_cell": "Table of Contents",
   "title_sidebar": "Contents",
   "toc_cell": false,
   "toc_position": {},
   "toc_section_display": true,
   "toc_window_display": false
  },
  "varInspector": {
   "cols": {
    "lenName": 16,
    "lenType": 16,
    "lenVar": 40
   },
   "kernels_config": {
    "python": {
     "delete_cmd_postfix": "",
     "delete_cmd_prefix": "del ",
     "library": "var_list.py",
     "varRefreshCmd": "print(var_dic_list())"
    },
    "r": {
     "delete_cmd_postfix": ") ",
     "delete_cmd_prefix": "rm(",
     "library": "var_list.r",
     "varRefreshCmd": "cat(var_dic_list()) "
    }
   },
   "types_to_exclude": [
    "module",
    "function",
    "builtin_function_or_method",
    "instance",
    "_Feature"
   ],
   "window_display": false
  }
 },
 "nbformat": 4,
 "nbformat_minor": 4
}
