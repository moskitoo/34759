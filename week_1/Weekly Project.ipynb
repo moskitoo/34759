{
 "cells": [
  {
   "cell_type": "markdown",
   "metadata": {},
   "source": [
    "# Weekly project part 1\n",
    "Using the image \"appletree.jpg\"\n",
    "1) Can you segment the apples from the tree?\n",
    "2) Can you get the computer to count how many there are? \n",
    "    How close can you get to the ground truth? (there are 26 apples in the image)\n",
    "3) Can you change the color of one of them?\n",
    "4) Can you segment the leaves?\n",
    "    \n",
    "    \n",
    "# Weekly project part 2\n",
    "1) Remove the greenscreen and replace the background in \"itssp.png\".\n",
    "2) Can you improve the edge with eroding/dilating?\n"
   ]
  }
 ],
 "metadata": {
  "kernelspec": {
   "display_name": "Python 3 (ipykernel)",
   "language": "python",
   "name": "python3"
  },
  "language_info": {
   "codemirror_mode": {
    "name": "ipython",
    "version": 3
   },
   "file_extension": ".py",
   "mimetype": "text/x-python",
   "name": "python",
   "nbconvert_exporter": "python",
   "pygments_lexer": "ipython3",
   "version": "3.9.13"
  }
 },
 "nbformat": 4,
 "nbformat_minor": 4
}
